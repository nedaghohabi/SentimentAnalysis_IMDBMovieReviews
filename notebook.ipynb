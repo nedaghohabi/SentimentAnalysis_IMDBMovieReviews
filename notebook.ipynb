{
 "cells": [
  {
   "cell_type": "code",
   "execution_count": 1,
   "metadata": {},
   "outputs": [
    {
     "name": "stderr",
     "output_type": "stream",
     "text": [
      "[nltk_data] Downloading package wordnet to\n",
      "[nltk_data]     /Users/pouriadaneshvar/nltk_data...\n",
      "[nltk_data]   Package wordnet is already up-to-date!\n",
      "[nltk_data] Downloading package stopwords to\n",
      "[nltk_data]     /Users/pouriadaneshvar/nltk_data...\n",
      "[nltk_data]   Package stopwords is already up-to-date!\n",
      "[nltk_data] Downloading package punkt to\n",
      "[nltk_data]     /Users/pouriadaneshvar/nltk_data...\n",
      "[nltk_data]   Package punkt is already up-to-date!\n",
      "[nltk_data] Downloading package omw-1.4 to\n",
      "[nltk_data]     /Users/pouriadaneshvar/nltk_data...\n",
      "[nltk_data]   Package omw-1.4 is already up-to-date!\n"
     ]
    },
    {
     "data": {
      "text/plain": [
       "True"
      ]
     },
     "execution_count": 1,
     "metadata": {},
     "output_type": "execute_result"
    }
   ],
   "source": [
    "# Core libraries\n",
    "import numpy as np\n",
    "import pandas as pd\n",
    "from pathlib import Path\n",
    "import re\n",
    "import string\n",
    "import spacy\n",
    "import os\n",
    "import os.path as osp\n",
    "from tqdm import tqdm\n",
    "import time\n",
    "\n",
    "# Machine learning libraries\n",
    "from sklearn.model_selection import train_test_split\n",
    "from sklearn.metrics import accuracy_score, precision_score, recall_score, f1_score, confusion_matrix\n",
    "from sklearn.decomposition import PCA\n",
    "from sklearn.manifold import TSNE\n",
    "from sklearn.feature_extraction.text import CountVectorizer, TfidfVectorizer\n",
    "\n",
    "# nltl\n",
    "import nltk\n",
    "from nltk.corpus import stopwords\n",
    "from nltk.stem import PorterStemmer, WordNetLemmatizer\n",
    "\n",
    "# Gensim libraries\n",
    "import gensim\n",
    "from gensim.models import Word2Vec, KeyedVectors\n",
    "from gensim.models.callbacks import CallbackAny2Vec\n",
    "\n",
    "# Visualization libraries\n",
    "import matplotlib.pyplot as plt\n",
    "import seaborn as sns\n",
    "\n",
    "# Symspellpy\n",
    "from symspellpy.symspellpy import SymSpell, Verbosity\n",
    "\n",
    "nltk.download('wordnet')\n",
    "nltk.download('stopwords')\n",
    "nltk.download('punkt')\n",
    "nltk.download('omw-1.4')"
   ]
  },
  {
   "cell_type": "markdown",
   "metadata": {},
   "source": [
    "# Data Loading"
   ]
  },
  {
   "cell_type": "code",
   "execution_count": 2,
   "metadata": {},
   "outputs": [
    {
     "data": {
      "text/html": [
       "<div>\n",
       "<style scoped>\n",
       "    .dataframe tbody tr th:only-of-type {\n",
       "        vertical-align: middle;\n",
       "    }\n",
       "\n",
       "    .dataframe tbody tr th {\n",
       "        vertical-align: top;\n",
       "    }\n",
       "\n",
       "    .dataframe thead th {\n",
       "        text-align: right;\n",
       "    }\n",
       "</style>\n",
       "<table border=\"1\" class=\"dataframe\">\n",
       "  <thead>\n",
       "    <tr style=\"text-align: right;\">\n",
       "      <th></th>\n",
       "      <th>review</th>\n",
       "      <th>sentiment</th>\n",
       "    </tr>\n",
       "  </thead>\n",
       "  <tbody>\n",
       "    <tr>\n",
       "      <th>0</th>\n",
       "      <td>One of the other reviewers has mentioned that ...</td>\n",
       "      <td>positive</td>\n",
       "    </tr>\n",
       "    <tr>\n",
       "      <th>1</th>\n",
       "      <td>A wonderful little production. &lt;br /&gt;&lt;br /&gt;The...</td>\n",
       "      <td>positive</td>\n",
       "    </tr>\n",
       "    <tr>\n",
       "      <th>2</th>\n",
       "      <td>I thought this was a wonderful way to spend ti...</td>\n",
       "      <td>positive</td>\n",
       "    </tr>\n",
       "    <tr>\n",
       "      <th>3</th>\n",
       "      <td>Basically there's a family where a little boy ...</td>\n",
       "      <td>negative</td>\n",
       "    </tr>\n",
       "    <tr>\n",
       "      <th>4</th>\n",
       "      <td>Petter Mattei's \"Love in the Time of Money\" is...</td>\n",
       "      <td>positive</td>\n",
       "    </tr>\n",
       "  </tbody>\n",
       "</table>\n",
       "</div>"
      ],
      "text/plain": [
       "                                              review sentiment\n",
       "0  One of the other reviewers has mentioned that ...  positive\n",
       "1  A wonderful little production. <br /><br />The...  positive\n",
       "2  I thought this was a wonderful way to spend ti...  positive\n",
       "3  Basically there's a family where a little boy ...  negative\n",
       "4  Petter Mattei's \"Love in the Time of Money\" is...  positive"
      ]
     },
     "execution_count": 2,
     "metadata": {},
     "output_type": "execute_result"
    }
   ],
   "source": [
    "PATH = Path('./data//IMDB Dataset.csv')\n",
    "reviews_df = pd.read_csv(PATH)\n",
    "\n",
    "reviews_df.head(n=5)"
   ]
  },
  {
   "cell_type": "code",
   "execution_count": 3,
   "metadata": {},
   "outputs": [
    {
     "data": {
      "text/plain": [
       "sentiment\n",
       "positive    25000\n",
       "negative    25000\n",
       "Name: count, dtype: int64"
      ]
     },
     "execution_count": 3,
     "metadata": {},
     "output_type": "execute_result"
    }
   ],
   "source": [
    "reviews_df.sentiment.value_counts()"
   ]
  },
  {
   "cell_type": "markdown",
   "metadata": {},
   "source": [
    "# Preprocessing"
   ]
  },
  {
   "cell_type": "code",
   "execution_count": 4,
   "metadata": {},
   "outputs": [],
   "source": [
    "def initialize_symspell(dictionary_path):\n",
    "    \"\"\"Initializes SymSpell with the given dictionary.\"\"\"\n",
    "    sym_spell = SymSpell(max_dictionary_edit_distance=2, prefix_length=7)\n",
    "    sym_spell.load_dictionary(dictionary_path, term_index=0, count_index=1)\n",
    "    return sym_spell\n",
    "\n",
    "def basic_preprocessing(text):\n",
    "    \"\"\"Preprocesses text: lowercasing, removing HTML, URLs, and tokenizing.\"\"\"\n",
    "    text = text.lower()\n",
    "    text = re.sub(r'<.*?>', '', text)  # Remove HTML\n",
    "    text = re.sub(r'https?://\\S+|www\\.\\S+', '', text)  # Remove URLs\n",
    "    words = nltk.word_tokenize(text)  # Tokenization BEFORE punctuation removal\n",
    "    return words\n",
    "\n",
    "def spell_correction(words, sym_spell):\n",
    "    \"\"\"Performs spelling correction using SymSpell.\"\"\"\n",
    "    corrected_words = []\n",
    "    for word in words:\n",
    "        suggestions = sym_spell.lookup(word, Verbosity.CLOSEST, max_edit_distance=2)\n",
    "        corrected_words.append(suggestions[0].term if suggestions else word)\n",
    "    return corrected_words\n",
    "\n",
    "def remove_stopwords(words, stop_words):\n",
    "    \"\"\"Removes stopwords from a list of words.\"\"\"\n",
    "    return [word for word in words if word not in stop_words]\n",
    "\n",
    "def remove_punctuation(words):\n",
    "    \"\"\"Removes punctuation from words.\"\"\"\n",
    "    return [word for word in words if word not in string.punctuation]\n",
    "\n",
    "def stemming(words):\n",
    "    \"\"\"Applies stemming to words.\"\"\"\n",
    "    stemmer = PorterStemmer()\n",
    "    return [stemmer.stem(word) for word in words]\n",
    "\n",
    "def lemmatization(words):\n",
    "    \"\"\"Applies lemmatization to words.\"\"\"\n",
    "    lemmatizer = WordNetLemmatizer()\n",
    "    return [lemmatizer.lemmatize(word) for word in words]\n",
    "\n",
    "def full_pipeline(text, sym_spell, stop_words, spell_check=False, use_stemming=False, use_lemmatization=False):\n",
    "    \"\"\"Runs full preprocessing pipeline with options to enable/disable steps.\"\"\"\n",
    "    words = basic_preprocessing(text)  # Lowercase, HTML & URL removal, tokenization\n",
    "    words = remove_punctuation(words)  # Punctuation removal\n",
    "    words = remove_stopwords(words, stop_words)  # Stopword removal\n",
    "    if use_stemming:\n",
    "        words = stemming(words)  # Stemming\n",
    "    if use_lemmatization:\n",
    "        words = lemmatization(words)  # Lemmatization\n",
    "    if spell_check:\n",
    "        words = spell_correction(words, sym_spell)  # Spell correction\n",
    "    return ' '.join(words)\n",
    "\n",
    "def process_dataframe(df, column, sym_spell, stop_words, spell_check=False, use_stemming=False, use_lemmatization=False):\n",
    "    \"\"\"Applies text preprocessing to the specified column of a DataFrame with a progress bar.\"\"\"\n",
    "    tqdm.pandas(desc=\"Processing reviews\")\n",
    "    df[column + \"_cleaned\"] = df[column].progress_apply(lambda text: full_pipeline(\n",
    "        text, sym_spell, stop_words, spell_check, use_stemming, use_lemmatization\n",
    "    ))\n",
    "    return df\n",
    "\n",
    "sym_spell = initialize_symspell(\"./data/frequency_dictionary_en_82_765.txt\")\n",
    "stop_words = set(stopwords.words('english'))\n",
    "\n",
    "cleaned_pth = \"./data/IMDB Cleaned.csv\"\n",
    "if osp.exists(cleaned_pth):\n",
    "    reviews_df = pd.read_csv(cleaned_pth)\n",
    "else:\n",
    "    reviews_df = process_dataframe(reviews_df, \"review\", sym_spell, stop_words, True, False, True)\n",
    "    reviews_df.to_csv(\"./data/IMDB Cleaned.csv\", index=False)"
   ]
  },
  {
   "cell_type": "code",
   "execution_count": 26,
   "metadata": {},
   "outputs": [
    {
     "name": "stdout",
     "output_type": "stream",
     "text": [
      "['one', 'reviewer', 'mentioned', 'watching', 'a', 'of', 'episode', 'all', 'hooked', 'right', 'exactly', 'happened', 'metre', 'first', 'thing', 'struck', 'of', 'brutality', 'unflinching', 'scene', 'violence', 'set', 'right', 'word', 'go', 'trust', 'show', 'faint', 'hearted', 'timid', 'show', 'pull', 'punch', 'regard', 'drug', 'sex', 'violence', 'hardcore', 'classic', 'use', 'word.it', 'called', 'of', 'nickname', 'given', 'oswald', 'maximum', 'security', 'state', 'penitentiary', 'focus', 'mainly', 'emerald', 'city', 'experimental', 'section', 'prison', 'cell', 'glass', 'front', 'face', 'inwards', 'privacy', 'high', 'agenda', 'pm', 'city', 'home', 'many', 'of', 'aryan', 'muslim', 'gangsta', 'latino', 'christian', 'italian', 'irish', '....', 'scuffle', 'death', 'stare', 'dodgy', 'dealing', 'shady', 'agreement', 'never', 'far', 'away', 'would', 'say', 'main', 'appeal', 'show', 'due', 'fact', 'go', 'show', 'would', 'not', 'dare', 'forget', 'pretty', 'picture', 'painted', 'mainstream', 'audience', 'forget', 'charm', 'forget', 'romance', '...', 'of', 'not', 'mess', 'around', 'first', 'episode', 'ever', 'saw', 'struck', 'nasty', 'surreal', 'could', 'not', 'say', 'ready', 'watched', 'developed', 'taste', 'of', 'got', 'accustomed', 'high', 'level', 'graphic', 'violence', 'violence', 'injustice', 'crooked', 'guard', 'all', 'sold', 'nickel', 'inmate', 'all', 'kill', 'order', 'get', 'away', 'well', 'mannered', 'middle', 'class', 'inmate', 'turned', 'prison', 'bitch', 'due', 'lack', 'street', 'skill', 'prison', 'experience', 'watching', 'of', 'may', 'become', 'comfortable', 'uncomfortable', 'viewing', '....', 'that', 'get', 'touch', 'darker', 'side']\n",
      "['wonderful', 'little', 'production', 'filming', 'technique', 'unassuming', 'old-time-bbc', 'fashion', 'give', 'comforting', 'sometimes', 'discomforting', 'sense', 'realism', 'entire', 'piece', 'actor', 'extremely', 'well', 'chosen', 'michael', 'sheen', 'of', 'got', 'polar', 'of', 'voice', 'pat', 'truly', 'see', 'seamless', 'editing', 'guided', 'reference', 'williams', 'diary', 'entry', 'well', 'worth', 'watching', 'terrific', 'written', 'performed', 'piece', 'masterful', 'production', 'one', 'great', 'master', 'is', 'comedy', 'life', 'realism', 'really', 'come', 'home', 'little', 'thing', 'fantasy', 'guard', 'rather', 'use', 'traditional', 'dream', 'technique', 'remains', 'solid', 'disappears', 'play', 'knowledge', 'sens', 'particularly', 'scene', 'concerning', 'norton', 'halliwell', 'set', 'particularly', 'flat', 'halliwell', 'is', 'mural', 'decorating', 'every', 'surface', 'terribly', 'well', 'done']\n",
      "['thought', 'wonderful', 'way', 'spend', 'time', 'hot', 'summer', 'weekend', 'sitting', 'air', 'conditioned', 'theatre', 'watching', 'lighthearted', 'comedy', 'plot', 'simplistic', 'dialogue', 'witty', 'character', 'likable', 'even', 'well', 'bread', 'suspected', 'serial', 'killer', 'may', 'disappointed', 'realize', 'match', 'point', 'a', 'risk', 'addiction', 'thought', 'proof', 'woody', 'allen', 'still', 'fully', 'control', 'style', 'many', 'a', 'grown', 'love.this', 'cd', 'laughed', 'one', 'woody', 'is', 'comedy', 'year', 'dare', 'say', 'decade', 'ave', 'never', 'impressed', 'scarlet', 'johnson', 'managed', 'tone', 'of', 'sexy', 'of', 'image', 'jumped', 'right', 'average', 'spirited', 'young', 'woman.this', 'may', 'crown', 'jewel', 'career', 'wittier', 'of', 'devil', 'wear', 'prada', 'of', 'interesting', 'of', 'superman', 'of', 'great', 'comedy', 'go', 'see', 'friend']\n",
      "['basically', 'is', 'family', 'little', 'boy', 'jake', 'think', 'is', 'zombie', 'closet', 'parent', 'fighting', 'time.this', 'movie', 'slower', 'soap', 'opera', '...', 'suddenly', 'jake', 'decides', 'become', 'rambo', 'kill', 'zombie.ok', 'first', 'are', 'going', 'make', 'film', 'must', 'decide', 'thriller', 'drama', 'drama', 'movie', 'watchable', 'parent', 'divorcing', 'arguing', 'like', 'real', 'life', 'jake', 'closet', 'totally', 'ruin', 'film', 'expected', 'see', 'boogeyman', 'similar', 'movie', 'instead', 'watched', 'drama', 'meaningless', 'thriller', 'spots', 'of', 'well', 'playing', 'parent', 'descent', 'dialog', 'shot', 'jake', 'ignore']\n",
      "['petter', 'matter', 'is', 'of', 'love', 'time', 'money', 'of', 'visually', 'stunning', 'film', 'watch', 'mrs', 'matter', 'offer', 'a', 'vivid', 'portrait', 'human', 'relation', 'movie', 'seems', 'telling', 'a', 'money', 'power', 'success', 'people', 'different', 'situation', 'encounter', 'variation', 'arthur', 'schnitzler', 'is', 'play', 'theme', 'director', 'transfer', 'action', 'present', 'time', 'new', 'york', 'different', 'character', 'meet', 'connect', 'one', 'connected', 'one', 'way', 'another', 'next', 'person', 'one', 'seems', 'know', 'previous', 'point', 'contact', 'stylishly', 'film', 'sophisticated', 'luxurious', 'look', 'taken', 'see', 'people', 'live', 'world', 'live', 'habitat.the', 'thing', 'one', 'get', 'soul', 'picture', 'different', 'stage', 'loneliness', 'one', 'inhabits', 'big', 'city', 'exactly', 'best', 'place', 'human', 'relation', 'find', 'sincere', 'fulfilment', 'one', 'discerns', 'case', 'people', 'encounter.the', 'acting', 'good', 'mrs', 'matter', 'is', 'direction', 'steve', 'buscemi', 'rosario', 'dawson', 'carol', 'kane', 'michael', 'imperial', 'adrian', 'greater', 'rest', 'talented', 'cast', 'make', 'character', 'come', 'alive.we', 'wish', 'mrs', 'matter', 'good', 'luck', 'await', 'anxiously', 'next', 'work']\n"
     ]
    }
   ],
   "source": [
    "for text in reviews_df.review_cleaned.head(n=5):\n",
    "    print(text.split())\n"
   ]
  },
  {
   "cell_type": "markdown",
   "metadata": {},
   "source": [
    "# Train Test Split"
   ]
  },
  {
   "cell_type": "code",
   "execution_count": 5,
   "metadata": {},
   "outputs": [],
   "source": [
    "reviews_df[\"label\"] = reviews_df[\"sentiment\"].apply(lambda x: 1 if x == \"positive\" else 0)"
   ]
  },
  {
   "cell_type": "code",
   "execution_count": 6,
   "metadata": {},
   "outputs": [
    {
     "data": {
      "image/png": "[encoded data removed]",
      "text/plain": [
       "<Figure size 640x480 with 1 Axes>"
      ]
     },
     "metadata": {},
     "output_type": "display_data"
    }
   ],
   "source": [
    "train_size = 0.7\n",
    "val_size = 0.1\n",
    "test_size = 0.2\n",
    "\n",
    "train_val_df, test_df = train_test_split(\n",
    "    reviews_df, test_size=test_size, random_state=42, stratify=reviews_df[\"label\"]\n",
    ")\n",
    "train_df, val_df = train_test_split(\n",
    "    train_val_df,\n",
    "    test_size=val_size / (train_size + val_size),\n",
    "    random_state=42,\n",
    "    stratify=train_val_df[\"label\"],\n",
    ")\n",
    "\n",
    "# plot the distribution of the labels in all the datasets\n",
    "count_df = pd.DataFrame(\n",
    "    {\n",
    "        \"train\": train_df[\"label\"].value_counts(normalize=False),\n",
    "        \"val\": val_df[\"label\"].value_counts(normalize=False),\n",
    "        \"test\": test_df[\"label\"].value_counts(normalize=False),\n",
    "    }\n",
    ").sort_index()\n",
    "count_df = count_df.T\n",
    "\n",
    "fig, ax = plt.subplots()\n",
    "count_df.plot(kind=\"bar\", ax=ax)\n",
    "ax.set_xticklabels([\"Train\", \"Validation\", \"Test\"], rotation=0)\n",
    "ax.set_ylabel(\"Number of Reviews\")\n",
    "ax.set_title(\"Distribution of Reviews in Train, Validation, and Test Datasets\")\n",
    "plt.show()"
   ]
  },
  {
   "cell_type": "markdown",
   "metadata": {},
   "source": [
    "# Feature Extraction"
   ]
  },
  {
   "cell_type": "code",
   "execution_count": 7,
   "metadata": {},
   "outputs": [],
   "source": [
    "bcv = CountVectorizer(binary=True, lowercase=False, stop_words=None, max_features=5000)\n",
    "X_train_bcv = bcv.fit_transform(train_df[\"review_cleaned\"])\n",
    "X_val_bcv = bcv.transform(val_df[\"review_cleaned\"])\n",
    "X_test_bcv = bcv.transform(test_df[\"review_cleaned\"])\n",
    "y_train = train_df[\"label\"]\n",
    "y_val = val_df[\"label\"]\n",
    "y_test = test_df[\"label\"]"
   ]
  },
  {
   "cell_type": "markdown",
   "metadata": {},
   "source": [
    "# Train ML Model"
   ]
  },
  {
   "cell_type": "code",
   "execution_count": 8,
   "metadata": {},
   "outputs": [],
   "source": [
    "import time\n",
    "\n",
    "\n",
    "def timeit(method):\n",
    "    \"\"\"Decorator to time a function and print the first argument (model).\"\"\"\n",
    "\n",
    "    def timed(*args, **kw):\n",
    "        ts = time.time()\n",
    "        result = method(*args, **kw)\n",
    "        te = time.time()\n",
    "        model_name = args[0].__repr__() if args else \"UnknownModel\"\n",
    "        print(\n",
    "            f\"{method.__name__} [{model_name}] with data of shape {args[1].shape} took: {te - ts} sec\"\n",
    "        )\n",
    "        return result\n",
    "\n",
    "    return timed\n",
    "\n",
    "\n",
    "@timeit\n",
    "def train_model(model, X, y):\n",
    "    \"\"\"Trains a model and evaluates it on the validation set.\"\"\"\n",
    "    model.fit(X, y)\n",
    "    return model\n",
    "\n",
    "\n",
    "@timeit\n",
    "def test_model(model, X, y):\n",
    "    \"\"\"Evaluates a model on the test set.\"\"\"\n",
    "    preds = model.predict(X)\n",
    "    return preds"
   ]
  },
  {
   "cell_type": "code",
   "execution_count": 18,
   "metadata": {},
   "outputs": [
    {
     "name": "stdout",
     "output_type": "stream",
     "text": [
      "Training:\n",
      "train_model [LinearSVC(random_state=42)] with data of shape (34999, 5000) took: 1.484314203262329 sec\n",
      "\n",
      "Results:\n",
      "Train set:\n",
      "test_model [LinearSVC(random_state=42)] with data of shape (34999, 5000) took: 0.006964921951293945 sec\n",
      "              precision    recall  f1-score   support\n",
      "\n",
      "           0       0.94      0.94      0.94     17499\n",
      "           1       0.94      0.94      0.94     17500\n",
      "\n",
      "    accuracy                           0.94     34999\n",
      "   macro avg       0.94      0.94      0.94     34999\n",
      "weighted avg       0.94      0.94      0.94     34999\n",
      "\n",
      "Validation set:\n",
      "test_model [LinearSVC(random_state=42)] with data of shape (5001, 5000) took: 0.001766204833984375 sec\n",
      "              precision    recall  f1-score   support\n",
      "\n",
      "           0       0.85      0.86      0.85      2501\n",
      "           1       0.86      0.85      0.85      2500\n",
      "\n",
      "    accuracy                           0.85      5001\n",
      "   macro avg       0.85      0.85      0.85      5001\n",
      "weighted avg       0.85      0.85      0.85      5001\n",
      "\n",
      "Test set:\n",
      "test_model [LinearSVC(random_state=42)] with data of shape (10000, 5000) took: 0.0019593238830566406 sec\n",
      "              precision    recall  f1-score   support\n",
      "\n",
      "           0       0.86      0.86      0.86      5000\n",
      "           1       0.86      0.86      0.86      5000\n",
      "\n",
      "    accuracy                           0.86     10000\n",
      "   macro avg       0.86      0.86      0.86     10000\n",
      "weighted avg       0.86      0.86      0.86     10000\n",
      "\n"
     ]
    }
   ],
   "source": [
    "from sklearn.linear_model import LogisticRegression\n",
    "from sklearn.svm import SVC, LinearSVC\n",
    "from sklearn.metrics import classification_report\n",
    "import time\n",
    "\n",
    "# SVC\n",
    "svc = LinearSVC(random_state=42)\n",
    "print(\"Training:\")\n",
    "svc = train_model(svc, X_train_bcv, y_train)\n",
    "\n",
    "print(\"\\nResults:\")\n",
    "print(\"Train set:\")\n",
    "p_train_svc = test_model(svc, X_train_bcv, y_train)\n",
    "print(classification_report(y_train, p_train_svc))\n",
    "\n",
    "print(\"Validation set:\")\n",
    "p_val_svc = test_model(svc, X_val_bcv, y_val)\n",
    "print(classification_report(y_val, p_val_svc))\n",
    "\n",
    "print(\"Test set:\")\n",
    "p_test_svc = test_model(svc, X_test_bcv, y_test)\n",
    "print(classification_report(y_test, p_test_svc))"
   ]
  },
  {
   "cell_type": "code",
   "execution_count": 20,
   "metadata": {},
   "outputs": [
    {
     "name": "stdout",
     "output_type": "stream",
     "text": [
      "Training:\n",
      "train_model [LogisticRegression(random_state=42)] with data of shape (34999, 5000) took: 0.6208043098449707 sec\n",
      "\n",
      "Results:\n",
      "Train set:\n",
      "test_model [LogisticRegression(random_state=42)] with data of shape (34999, 5000) took: 0.006288051605224609 sec\n",
      "              precision    recall  f1-score   support\n",
      "\n",
      "           0       0.94      0.93      0.94     17499\n",
      "           1       0.93      0.94      0.94     17500\n",
      "\n",
      "    accuracy                           0.94     34999\n",
      "   macro avg       0.94      0.94      0.94     34999\n",
      "weighted avg       0.94      0.94      0.94     34999\n",
      "\n",
      "Validation set:\n",
      "test_model [LogisticRegression(random_state=42)] with data of shape (5001, 5000) took: 0.001026153564453125 sec\n",
      "              precision    recall  f1-score   support\n",
      "\n",
      "           0       0.87      0.87      0.87      2501\n",
      "           1       0.87      0.87      0.87      2500\n",
      "\n",
      "    accuracy                           0.87      5001\n",
      "   macro avg       0.87      0.87      0.87      5001\n",
      "weighted avg       0.87      0.87      0.87      5001\n",
      "\n",
      "Test set:\n",
      "test_model [LogisticRegression(random_state=42)] with data of shape (10000, 5000) took: 0.001997709274291992 sec\n",
      "              precision    recall  f1-score   support\n",
      "\n",
      "           0       0.88      0.87      0.88      5000\n",
      "           1       0.87      0.88      0.88      5000\n",
      "\n",
      "    accuracy                           0.88     10000\n",
      "   macro avg       0.88      0.88      0.88     10000\n",
      "weighted avg       0.88      0.88      0.88     10000\n",
      "\n"
     ]
    }
   ],
   "source": [
    "log_reg = LogisticRegression(random_state=42)\n",
    "print(\"Training:\")\n",
    "log_reg = train_model(log_reg, X_train_bcv, y_train)\n",
    "\n",
    "print(\"\\nResults:\")\n",
    "print(\"Train set:\")\n",
    "p_train_log_reg = test_model(log_reg, X_train_bcv, y_train)\n",
    "print(classification_report(y_train, p_train_log_reg))\n",
    "\n",
    "print(\"Validation set:\")\n",
    "p_val_log_reg = test_model(log_reg, X_val_bcv, y_val)\n",
    "print(classification_report(y_val, p_val_log_reg))\n",
    "\n",
    "print(\"Test set:\")\n",
    "p_test_log_reg = test_model(log_reg, X_test_bcv, y_test)\n",
    "print(classification_report(y_test, p_test_log_reg))"
   ]
  }
 ],
 "metadata": {
  "kernelspec": {
   "display_name": "islp",
   "language": "python",
   "name": "python3"
  },
  "language_info": {
   "codemirror_mode": {
    "name": "ipython",
    "version": 3
   },
   "file_extension": ".py",
   "mimetype": "text/x-python",
   "name": "python",
   "nbconvert_exporter": "python",
   "pygments_lexer": "ipython3",
   "version": "3.12.4"
  }
 },
 "nbformat": 4,
 "nbformat_minor": 2
}
